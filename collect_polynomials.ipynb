{
  "nbformat": 4,
  "nbformat_minor": 0,
  "metadata": {
    "colab": {
      "provenance": []
    },
    "kernelspec": {
      "display_name": "julia 1.8.2",
      "name": "julia"
    }
  },
  "cells": [
    {
      "cell_type": "markdown",
      "source": [
        "This Jupyter notebook uses the code from Daniel Corey and Dante Luber used for the paper [Singular matroid realization spaces](https://arxiv.org/abs/2307.11915) to compute realization spaces for $(3,11)$-matroids, which are matroids of rank 3 and ground set size 11. Daniel Corey and Dante Luber also provide the simple $(3,11)$-matroids that satisfies the 3 lines property, meaning each element of the ground set is contained in at least 3 lines. Out of the simple $(3,11)$-matroids with 3 lines property, they also provide which ones are not realizable over $\\mathbb{C}$ and which ones with a maximal circuit such that ideal of the realization space are zero, univariate, or multivariate and principal. All the $(3,11)$-matroids with the 3 lines property fall into one of those categories.\n",
        "\n",
        "Out of the 232928 simple $(3,11)$-matroids, 16234 satisfy the 3 lines property. Out of the 16234 that satisfy the 3 lines property, 4718 are not realizable over $\\mathbb{C}$. Then, out of the remaining 11516 simple $(3,11)$-matroids that satisfy, it was determined that there are maximal circuits for each matroid such that\n",
        "- 2220 of them have the zero ideal for the realization space,\n",
        "- 3658 of them have a univariate ideal for the realization space, and\n",
        "- 5638 of them have a multivariate, principal ideal for the realization space (and there are no maximal circuits such that the ideal of the realization space is univariate).\n",
        "\n",
        "# Importing realization space code\n",
        "\n",
        "First, we clone the [Github repository](https://github.com/dcorey2814/matroidRealizationSpaces/tree/main) from Daniel Corey and Dante Luber. The code uses Julia and the package OSCAR."
      ],
      "metadata": {
        "id": "uCmbI0l-Fb1n"
      }
    },
    {
      "cell_type": "code",
      "source": [
        "!git clone https://github.com/dcorey2814/matroidRealizationSpaces.git"
      ],
      "metadata": {
        "id": "iOVmDcpHwKeo",
        "colab": {
          "base_uri": "https://localhost:8080/"
        },
        "outputId": "2e96ee2c-abc2-4bdc-9a52-f78ace5b5bb4"
      },
      "execution_count": null,
      "outputs": [
        {
          "output_type": "stream",
          "name": "stdout",
          "text": [
            "Cloning into 'matroidRealizationSpaces'...\n",
            "remote: Enumerating objects: 1221, done.\u001b[K\n",
            "remote: Counting objects: 100% (388/388), done.\u001b[K\n",
            "remote: Compressing objects: 100% (247/247), done.\u001b[K\n",
            "remote: Total 1221 (delta 224), reused 287 (delta 138), pack-reused 833\u001b[K\n",
            "Receiving objects: 100% (1221/1221), 197.64 MiB | 23.62 MiB/s, done.\n",
            "Resolving deltas: 100% (775/775), done.\n"
          ]
        }
      ]
    },
    {
      "cell_type": "markdown",
      "source": [
        "# Importing the necessary packages"
      ],
      "metadata": {
        "id": "pJWwzrqMj3ko"
      }
    },
    {
      "cell_type": "code",
      "source": [
        "using Oscar"
      ],
      "metadata": {
        "id": "7y12ISmvyXj6"
      },
      "execution_count": null,
      "outputs": []
    },
    {
      "cell_type": "code",
      "source": [
        "cd(\"matroidRealizationSpaces\")"
      ],
      "metadata": {
        "id": "SS8LVsB7y-8U"
      },
      "execution_count": null,
      "outputs": []
    },
    {
      "cell_type": "code",
      "source": [
        "currentDir = pwd() # make sure you are running from the main directory.\n",
        "include(joinpath(currentDir, \"src/fileHandling.jl\"))\n",
        "include(joinpath(currentDir, \"src/isolate3Lines.jl\"))\n",
        "include(joinpath(currentDir, \"src/matroid_realization.jl\"))\n",
        "include(joinpath(currentDir, \"src/Jacobian_Criterion.jl\"))\n"
      ],
      "metadata": {
        "colab": {
          "base_uri": "https://localhost:8080/"
        },
        "id": "4kkK8S2pzIUu",
        "outputId": "5140200d-d3e6-4450-b867-712529a70695"
      },
      "execution_count": null,
      "outputs": [
        {
          "output_type": "execute_result",
          "data": {
            "text/plain": [
              "realization_space_2_singular_locus (generic function with 1 method)"
            ]
          },
          "metadata": {},
          "execution_count": 39
        }
      ]
    },
    {
      "cell_type": "markdown",
      "source": [
        "# Getting univariate polynomials\n",
        "\n",
        "The file `univariate_ideal_3_11.dat` contains all simple $(3,11)$-matroids with the 3 lines property such that there exists a maximal circuit such that the ideal of the realization space is univariate (and principal). The following code extracts a polynomial that generates the ideal of the realization space of each of these matroids and places these polynomials in `univariate_polys.txt`."
      ],
      "metadata": {
        "id": "tT-wLiHTnWDF"
      }
    },
    {
      "cell_type": "code",
      "source": [
        "univariate_ideal = vec(readlines(joinpath(currentDir, \"d3n11/data/univariate_ideal_3_11.dat\")));\n",
        "length(univariate_ideal)"
      ],
      "metadata": {
        "colab": {
          "base_uri": "https://localhost:8080/"
        },
        "id": "qEZs70m1zMnj",
        "outputId": "e7d229e0-8cc3-4a57-ce0e-b2a4ca497993"
      },
      "execution_count": null,
      "outputs": [
        {
          "output_type": "execute_result",
          "data": {
            "text/plain": [
              "3658"
            ]
          },
          "metadata": {},
          "execution_count": 40
        }
      ]
    },
    {
      "cell_type": "markdown",
      "source": [
        "Following cell took 28 minutes to run."
      ],
      "metadata": {
        "id": "DOVffHMi6O4y"
      }
    },
    {
      "cell_type": "code",
      "source": [
        "file_path = \"../data/univariate_polys.txt\"  # Replace this with the actual path to your file\n",
        "file = open(file_path, \"w\")\n",
        "\n",
        "for cir_Qstr in univariate_ideal\n",
        "    A = [i for i in 1:11 if string(cir_Qstr[i]) == \"*\"]\n",
        "    Qstr = cir_Qstr[12:176]\n",
        "    Q = matroid_from_revlex_basis_encoding(Qstr, 3, 11)\n",
        "    MR = new_matroid_realization_space(Q, A; F=QQ, saturate=true)\n",
        "\n",
        "    MR = reduce_ideal_full(MR)\n",
        "    I = MR.defining_ideal\n",
        "    vs = ideal_vars(gens(I))\n",
        "    length(vs) != 1 && error(\"not univariate\")\n",
        "    f = gens(I)[1]\n",
        "    write(file, string(f) * \"\\n\")\n",
        "end\n",
        "\n",
        "close(file)"
      ],
      "metadata": {
        "id": "dacELOapzQzT"
      },
      "execution_count": null,
      "outputs": []
    },
    {
      "cell_type": "markdown",
      "source": [
        "# Getting multivariate polynomials\n",
        "\n",
        "In this section, we use the data from `multivariate_principal_ideal_3_11.dat` to get all the simple $(3,11)$-matroids with the 3 lines property such that there exists a maximal circuit so that the ideal of the realization space is multivariate and principal. This data does not include the univariate cases from the previous section. The following code extracts a multivariate polynomial that generates the ideal of the realization space and places these polynomials in `multivariate_polys.txt`."
      ],
      "metadata": {
        "id": "aiJ10NgMnPql"
      }
    },
    {
      "cell_type": "code",
      "source": [
        "multivariate_principal = vec(readlines(joinpath(currentDir, \"d3n11/data/multivariate_principal_ideal_3_11.dat\")));\n",
        "length(multivariate_principal)"
      ],
      "metadata": {
        "colab": {
          "base_uri": "https://localhost:8080/"
        },
        "id": "M3-xkCqBEbnT",
        "outputId": "6d89e7d6-e09a-42f8-d214-73fc4ae0f3fc"
      },
      "execution_count": null,
      "outputs": [
        {
          "output_type": "execute_result",
          "data": {
            "text/plain": [
              "5638"
            ]
          },
          "metadata": {},
          "execution_count": 57
        }
      ]
    },
    {
      "cell_type": "code",
      "source": [
        "file_path = \"../data/multivariate_polys.txt\"  # Replace this with the actual path to your file\n",
        "file = open(file_path, \"w\")\n",
        "for cir_Qstr in multivariate_principal\n",
        "    A = [i for i in 1:11 if string(cir_Qstr[i]) == \"*\"]\n",
        "    Qstr = cir_Qstr[12:176]\n",
        "    Q = matroid_from_revlex_basis_encoding(Qstr, 3, 11)\n",
        "    MR = new_matroid_realization_space(Q, A; F=QQ, saturate=true)\n",
        "\n",
        "    MR = reduce_ideal_full(MR)\n",
        "    R = MR.ambient_ring\n",
        "    x = gens(R)\n",
        "    I = MR.defining_ideal\n",
        "    Igens = gens(I)\n",
        "    length(Igens) != 1 && error(\"not principal\")\n",
        "    f = Igens[1]\n",
        "    write(file, string(f) * \"\\n\")\n",
        "end\n",
        "\n",
        "close(file)"
      ],
      "metadata": {
        "id": "HyDdsUnwEZUb"
      },
      "execution_count": null,
      "outputs": []
    }
  ]
}